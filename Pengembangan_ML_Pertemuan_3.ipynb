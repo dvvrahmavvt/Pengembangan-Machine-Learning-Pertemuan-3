{
  "nbformat": 4,
  "nbformat_minor": 0,
  "metadata": {
    "colab": {
      "provenance": []
    },
    "kernelspec": {
      "name": "python3",
      "display_name": "Python 3"
    },
    "language_info": {
      "name": "python"
    }
  },
  "cells": [
    {
      "cell_type": "code",
      "source": [
        "!mkdir Pengembangan_Machine_Learning3"
      ],
      "metadata": {
        "id": "1CDyJuTJWou8"
      },
      "execution_count": 5,
      "outputs": []
    },
    {
      "cell_type": "code",
      "source": [
        "cd Pengembangan_Machine_Learning3"
      ],
      "metadata": {
        "colab": {
          "base_uri": "https://localhost:8080/"
        },
        "id": "DBYzKAKzWzTY",
        "outputId": "f2e96f4e-a1ea-42d2-bba1-51644ce2ab90"
      },
      "execution_count": 6,
      "outputs": [
        {
          "output_type": "stream",
          "name": "stdout",
          "text": [
            "/content/Pengembangan_Machine_Learning3/Pengembangan_Machine_Learning3\n"
          ]
        }
      ]
    },
    {
      "cell_type": "code",
      "source": [
        "!pwd"
      ],
      "metadata": {
        "colab": {
          "base_uri": "https://localhost:8080/"
        },
        "id": "JJKHybShXDCW",
        "outputId": "e8751861-ee4e-4a46-e3f8-6f72a728caf8"
      },
      "execution_count": 4,
      "outputs": [
        {
          "output_type": "stream",
          "name": "stdout",
          "text": [
            "/content/Pengembangan_Machine_Learning3\n"
          ]
        }
      ]
    },
    {
      "cell_type": "code",
      "source": [
        "%%writefile requirements.txt\n",
        "# Berikut adalah daftar library yang akan digunakan dalam project ini\n",
        "streamlit"
      ],
      "metadata": {
        "colab": {
          "base_uri": "https://localhost:8080/"
        },
        "id": "FCmx1MRdXHGC",
        "outputId": "1bf88440-8c10-4afe-f7cf-979c3435c028"
      },
      "execution_count": 9,
      "outputs": [
        {
          "output_type": "stream",
          "name": "stdout",
          "text": [
            "Writing requirements.txt\n"
          ]
        }
      ]
    },
    {
      "cell_type": "code",
      "source": [
        "!ls"
      ],
      "metadata": {
        "colab": {
          "base_uri": "https://localhost:8080/"
        },
        "id": "WYTjAfjuXLUM",
        "outputId": "b7539b4d-be31-4eff-9dc1-57003e5a98c1"
      },
      "execution_count": 10,
      "outputs": [
        {
          "output_type": "stream",
          "name": "stdout",
          "text": [
            "requirements.txt\n"
          ]
        }
      ]
    },
    {
      "cell_type": "code",
      "source": [
        "!cat requirements.txt"
      ],
      "metadata": {
        "colab": {
          "base_uri": "https://localhost:8080/"
        },
        "id": "aXFrh53HXaIN",
        "outputId": "be62ea57-4420-4d66-e921-e2cce78f4df8"
      },
      "execution_count": 11,
      "outputs": [
        {
          "output_type": "stream",
          "name": "stdout",
          "text": [
            "# Berikut adalah daftar library yang akan digunakan dalam project ini\n",
            "streamlit\n"
          ]
        }
      ]
    },
    {
      "cell_type": "code",
      "source": [
        "!ls"
      ],
      "metadata": {
        "colab": {
          "base_uri": "https://localhost:8080/"
        },
        "id": "o9_CvblcXkLj",
        "outputId": "8a34138f-45cf-4b00-f99a-461fd47ca0df"
      },
      "execution_count": 12,
      "outputs": [
        {
          "output_type": "stream",
          "name": "stdout",
          "text": [
            "requirements.txt\n"
          ]
        }
      ]
    },
    {
      "cell_type": "code",
      "source": [
        "!cat requirements.txt\n",
        "!pip install -q -r requirements.txt\n",
        "!pip list | grep streamlit"
      ],
      "metadata": {
        "colab": {
          "base_uri": "https://localhost:8080/"
        },
        "id": "u0Km46eSXmII",
        "outputId": "8afaaa3d-a1f8-4e1d-c49b-c571e8bda984"
      },
      "execution_count": 13,
      "outputs": [
        {
          "output_type": "stream",
          "name": "stdout",
          "text": [
            "# Berikut adalah daftar library yang akan digunakan dalam project ini\n",
            "streamlit\n",
            "\u001b[2K     \u001b[90m━━━━━━━━━━━━━━━━━━━━━━━━━━━━━━━━━━━━━━━━\u001b[0m \u001b[32m44.3/44.3 kB\u001b[0m \u001b[31m2.7 MB/s\u001b[0m eta \u001b[36m0:00:00\u001b[0m\n",
            "\u001b[2K   \u001b[90m━━━━━━━━━━━━━━━━━━━━━━━━━━━━━━━━━━━━━━━━\u001b[0m \u001b[32m9.9/9.9 MB\u001b[0m \u001b[31m56.5 MB/s\u001b[0m eta \u001b[36m0:00:00\u001b[0m\n",
            "\u001b[2K   \u001b[90m━━━━━━━━━━━━━━━━━━━━━━━━━━━━━━━━━━━━━━━━\u001b[0m \u001b[32m6.9/6.9 MB\u001b[0m \u001b[31m66.2 MB/s\u001b[0m eta \u001b[36m0:00:00\u001b[0m\n",
            "\u001b[2K   \u001b[90m━━━━━━━━━━━━━━━━━━━━━━━━━━━━━━━━━━━━━━━━\u001b[0m \u001b[32m79.1/79.1 kB\u001b[0m \u001b[31m5.0 MB/s\u001b[0m eta \u001b[36m0:00:00\u001b[0m\n",
            "\u001b[?25hstreamlit                             1.45.0\n"
          ]
        }
      ]
    },
    {
      "cell_type": "code",
      "source": [
        "%%writefile Home.py\n",
        "import streamlit as st\n",
        "\n",
        "# Judul halaman utama\n",
        "st.title(\"Selamat Datang di Aplikasi Pendaftaran Lomba Teknologi\")\n",
        "\n",
        "# Deskripsi singkat\n",
        "st.text(\"Aplikasi ini dirancang untuk membantu pendaftaran lomba teknologi secara mudah dan interaktif.\")\n",
        "\n",
        "# Penjelasan konten\n",
        "st.markdown(\"\"\"\n",
        "## Apa yang Bisa Anda Lakukan di Sini?\n",
        "- 📋 Mengisi formulir pendaftaran tim lomba teknologi\n",
        "- 🔢 Menentukan jumlah anggota tim\n",
        "- 🗓️ Memilih tanggal dan waktu presentasi\n",
        "- 🧠 Memilih kategori lomba yang diminati\n",
        "- ✅ Melihat hasil isian setelah menekan tombol daftar\n",
        "\n",
        "Aplikasi ini dikembangkan menggunakan **Streamlit** untuk memudahkan proses input dan visualisasi hasil secara langsung.\n",
        "\"\"\")\n",
        "\n",
        "# Catatan tambahan\n",
        "st.caption(\"Tugas Pertemuan 3 | Disusun oleh Dewi Rahmawati untuk memenuhi pembelajaran interaktif tentang Form Input di Streamlit Pertemuan 3 pada matakuliah pengembangan machine learning.\")\n"
      ],
      "metadata": {
        "colab": {
          "base_uri": "https://localhost:8080/"
        },
        "id": "JcKAwQ1OYZWI",
        "outputId": "e7d981a1-d1eb-46ed-d0ee-e791477eb5ea"
      },
      "execution_count": 37,
      "outputs": [
        {
          "output_type": "stream",
          "name": "stdout",
          "text": [
            "Writing Home.py\n"
          ]
        }
      ]
    },
    {
      "cell_type": "code",
      "source": [
        "!mkdir images"
      ],
      "metadata": {
        "colab": {
          "base_uri": "https://localhost:8080/"
        },
        "id": "UYvGDAPEgFQr",
        "outputId": "f7d355be-1bc5-45e7-983c-5b32171b2f4d"
      },
      "execution_count": 7,
      "outputs": [
        {
          "output_type": "stream",
          "name": "stdout",
          "text": [
            "shell-init: error retrieving current directory: getcwd: cannot access parent directories: No such file or directory\n",
            "mkdir: cannot create directory ‘images’: No such file or directory\n"
          ]
        }
      ]
    },
    {
      "cell_type": "code",
      "source": [
        "pwd"
      ],
      "metadata": {
        "colab": {
          "base_uri": "https://localhost:8080/",
          "height": 35
        },
        "id": "e-tHayfUYpoM",
        "outputId": "17b4d676-59a7-4171-85da-5731b09a007c"
      },
      "execution_count": 38,
      "outputs": [
        {
          "output_type": "execute_result",
          "data": {
            "text/plain": [
              "'/content/Pengembangan_Machine_Learning3'"
            ],
            "application/vnd.google.colaboratory.intrinsic+json": {
              "type": "string"
            }
          },
          "metadata": {},
          "execution_count": 38
        }
      ]
    },
    {
      "cell_type": "code",
      "source": [
        "!curl https://w7.pngwing.com/pngs/144/944/png-transparent-button-blue-button-miscellaneous-blue-sphere-thumbnail.png -o images/icon.jpg"
      ],
      "metadata": {
        "colab": {
          "base_uri": "https://localhost:8080/"
        },
        "id": "87ULPSkVgKSF",
        "outputId": "53f43b4e-3f20-4ea2-c9b2-439bf923c2ef"
      },
      "execution_count": 8,
      "outputs": [
        {
          "output_type": "stream",
          "name": "stdout",
          "text": [
            "shell-init: error retrieving current directory: getcwd: cannot access parent directories: No such file or directory\n",
            "  % Total    % Received % Xferd  Average Speed   Time    Time     Time  Current\n",
            "                                 Dload  Upload   Total   Spent    Left  Speed\n",
            "\r  0     0    0     0    0     0      0      0 --:--:-- --:--:-- --:--:--     0Warning: Failed to create the file images/icon.jpg: No such file or directory\n",
            "\r 11 11517   11  1360    0     0   7454      0  0:00:01 --:--:--  0:00:01  7472\n",
            "curl: (23) Failure writing output to destination\n"
          ]
        }
      ]
    },
    {
      "cell_type": "code",
      "source": [
        "!ls"
      ],
      "metadata": {
        "colab": {
          "base_uri": "https://localhost:8080/"
        },
        "id": "Xai1cmAqYrz8",
        "outputId": "3ddf3bf5-21ce-481a-fb2d-9f739e8a5160"
      },
      "execution_count": 39,
      "outputs": [
        {
          "output_type": "stream",
          "name": "stdout",
          "text": [
            "Home.py   node_modules\tpackage-lock.json  requirements.txt\n",
            "logs.txt  package.json\tpages\n"
          ]
        }
      ]
    },
    {
      "cell_type": "code",
      "source": [
        "!mkdir pages"
      ],
      "metadata": {
        "colab": {
          "base_uri": "https://localhost:8080/"
        },
        "id": "IYzPzByeYvLq",
        "outputId": "cbb31cf3-9af6-4f5e-9a16-89d4168ba98e"
      },
      "execution_count": 40,
      "outputs": [
        {
          "output_type": "stream",
          "name": "stdout",
          "text": [
            "mkdir: cannot create directory ‘pages’: File exists\n"
          ]
        }
      ]
    },
    {
      "cell_type": "code",
      "source": [
        "!ls"
      ],
      "metadata": {
        "colab": {
          "base_uri": "https://localhost:8080/"
        },
        "id": "9ZqIxUOkYxnh",
        "outputId": "9a8f7151-7fa4-42c4-87e2-9bde0708b00b"
      },
      "execution_count": 41,
      "outputs": [
        {
          "output_type": "stream",
          "name": "stdout",
          "text": [
            "Home.py   node_modules\tpackage-lock.json  requirements.txt\n",
            "logs.txt  package.json\tpages\n"
          ]
        }
      ]
    },
    {
      "cell_type": "code",
      "source": [
        "!ls pages"
      ],
      "metadata": {
        "colab": {
          "base_uri": "https://localhost:8080/"
        },
        "id": "KYbJXSDAYz-8",
        "outputId": "459f3f19-f3ec-47a0-846a-f8410ed0a765"
      },
      "execution_count": 42,
      "outputs": [
        {
          "output_type": "stream",
          "name": "stdout",
          "text": [
            "Contoh_Pertemuan_3.py  Latihan_Pertemuan_3.py  Tugas_Pertemuan_3.py\n"
          ]
        }
      ]
    },
    {
      "cell_type": "code",
      "source": [
        "%%writefile pages/Contoh_Pertemuan_3.py\n",
        "import streamlit as st\n",
        "import datetime\n",
        "\n",
        "# INPUT WIDGET\n",
        "\n",
        "# 1. TEXT INPUT\n",
        "# a. TEXT INPUT\n",
        "username = st.text_input('Masukkan nama Anda:', 'John Doe')\n",
        "password = st.text_input('Masukkan kata sandi Anda:', type='password', max_chars=12)\n",
        "st.write(f'Selamat Datang {username}')\n",
        "if password:\n",
        "    st.write('Kata sandi dimasukkan.')\n",
        "\n",
        "# b. TEXT AREA\n",
        "description = st.text_area('Masukkan deskripsi Anda:', 'Tulis deskripsi Anda di sini...', height=150)\n",
        "st.write(f'Deskripsi yang dimasukkan: {description}')\n",
        "\n",
        "# c. CHAT INPUT\n",
        "message = st.chat_input('Tulis pesan Anda:')\n",
        "if message:\n",
        "    st.write(f'Pesan yang Anda masukkan: {message}')\n",
        "\n",
        "# 2. NUMERIC INPUT\n",
        "age = st.number_input('Masukkan umur Anda:', min_value=0, max_value=100, value=18, step=1)\n",
        "st.write(f'Umur Anda adalah: {age}')\n",
        "\n",
        "# 3. SLIDER\n",
        "umur = st.slider('Pilih umur Anda:', min_value=0, max_value=100, value=25, step=1)\n",
        "st.write(f\"Umur Anda adalah: {umur}\")\n",
        "\n",
        "# 4. SELECT BOX\n",
        "color = st.selectbox('Pilih warna favorit Anda:', ['Merah', 'Biru', 'Hijau', 'Kuning'])\n",
        "st.write(f'Warna favorit Anda adalah: {color}')\n",
        "\n",
        "# 5. MULTI SELECT\n",
        "hobbies = st.multiselect('Pilih hobi favorit Anda:', ['Membaca', 'Olahraga', 'Menonton Film', 'Musik'])\n",
        "st.write(f'Hobi favorit Anda adalah: {\", \".join(hobbies)}')\n",
        "\n",
        "# 6. CHECK BOX\n",
        "agree = st.checkbox('Setuju dengan syarat dan ketentuan')\n",
        "if agree:\n",
        "    st.write('Terima kasih, Anda setuju dengan syarat dan ketentuan.')\n",
        "else:\n",
        "    st.write('Silakan centang untuk menyetujui syarat dan ketentuan.')\n",
        "\n",
        "# 7. RADIO BUTTON\n",
        "gender = st.radio('Pilih jenis kelamin:', ['Laki-laki', 'Perempuan'])\n",
        "st.write(f'Jenis kelamin yang Anda pilih adalah: {gender}')\n",
        "\n",
        "# 8. SELECT SLIDER\n",
        "difficulty = st.select_slider('Pilih tingkat kesulitan:', options=['Mudah', 'Sedang', 'Sulit'])\n",
        "st.write(f'Tingkat kesulitan yang Anda pilih adalah: {difficulty}')\n",
        "\n",
        "# 9. BUTTON\n",
        "angka_1 = st.number_input(\"Masukkan angka pertama:\", value=0)\n",
        "angka_2 = st.number_input(\"Masukkan angka kedua:\", value=0)\n",
        "def hitung_penjumlahan(a, b):\n",
        "    return a + b\n",
        "if st.button(\"Hitung Penjumlahan\"):\n",
        "    hasil = hitung_penjumlahan(angka_1, angka_2)\n",
        "    st.write(f\"Hasil penjumlahan: {hasil}\")\n",
        "\n",
        "# 10. DOWNLOAD BUTTON\n",
        "data = 'Ini adalah contoh teks untuk diunduh.'\n",
        "st.download_button('Unduh Teks', data, file_name='contoh.txt', mime='text/plain')\n",
        "\n",
        "# 11. LINK BUTTON\n",
        "st.link_button('Kunjungi Streamlit', url='https://streamlit.io')\n",
        "\n",
        "# 12. PAGE LINK\n",
        "# Menggunakan emoji sebagai ikon untuk st.page_link\n",
        "st.page_link('https://www.streamlit.io',\n",
        "             label='Kunjungi Streamlit',\n",
        "             icon='🔗')  # Menggunakan emoji link sebagai ikon\n",
        "\n",
        "# 13. FORM SUBMIT BUTTON\n",
        "with st.form(key='my_form'):\n",
        "    name = st.text_input('Nama Anda')\n",
        "    age_form = st.number_input('Usia Anda', min_value=0)\n",
        "    submit_button = st.form_submit_button(label='Kirim')\n",
        "    if submit_button:\n",
        "        st.write(f'Nama: {name}')\n",
        "        st.write(f'Usia: {age_form}')\n",
        "\n",
        "# 14. DATE & TIME INPUT\n",
        "date = st.date_input('Pilih Tanggal', value=datetime.date.today())\n",
        "st.write('Tanggal yang dipilih:', date)\n",
        "time = st.time_input('Pilih Waktu', value=datetime.time(14, 30))\n",
        "st.write('Waktu yang dipilih:', time)"
      ],
      "metadata": {
        "colab": {
          "base_uri": "https://localhost:8080/"
        },
        "id": "fnlodD_JY4wa",
        "outputId": "25a6aa61-1fdb-4b38-918b-c942696fc829"
      },
      "execution_count": 43,
      "outputs": [
        {
          "output_type": "stream",
          "name": "stdout",
          "text": [
            "Overwriting pages/Contoh_Pertemuan_3.py\n"
          ]
        }
      ]
    },
    {
      "cell_type": "code",
      "source": [
        "%%writefile pages/Latihan_Pertemuan_3.py\n",
        "import streamlit as st\n",
        "\n",
        "# Fungsi untuk konversi suhu ke Celsius\n",
        "def convert_to_celsius(temp, unit):\n",
        "    if unit == 'Fahrenheit':\n",
        "        return (temp - 32) * 5/9\n",
        "    elif unit == 'Kelvin':\n",
        "        return temp - 273.15\n",
        "    else:\n",
        "        return temp  # Sudah dalam Celsius\n",
        "\n",
        "st.title(\"Konversi Suhu ke Celsius\")\n",
        "\n",
        "# Input form untuk memasukkan suhu\n",
        "with st.form(key='temperature_conversion_form'):\n",
        "    # Pilihan satuan suhu\n",
        "    temp_unit = st.selectbox('Pilih satuan suhu:', ['Fahrenheit', 'Kelvin', 'Celsius'])\n",
        "\n",
        "    # Input nilai suhu yang akan dikonversi\n",
        "    temp_value = st.number_input(f'Masukkan suhu dalam {temp_unit}:', format=\"%.2f\")\n",
        "\n",
        "    # Tombol submit\n",
        "    submit_button = st.form_submit_button('Konversi')\n",
        "\n",
        "# Proses konversi jika tombol submit ditekan\n",
        "if submit_button:\n",
        "    # Lakukan konversi suhu ke Celsius\n",
        "    celsius_temp = convert_to_celsius(temp_value, temp_unit)\n",
        "\n",
        "    # Tampilkan hasil konversi\n",
        "    st.success(f'{temp_value} {temp_unit} setara dengan {celsius_temp:.2f} °C')\n"
      ],
      "metadata": {
        "colab": {
          "base_uri": "https://localhost:8080/"
        },
        "id": "NHNZ0ef0Y-BY",
        "outputId": "4b7a774c-e2b3-4dc5-fd14-cd4997ab3197"
      },
      "execution_count": 44,
      "outputs": [
        {
          "output_type": "stream",
          "name": "stdout",
          "text": [
            "Overwriting pages/Latihan_Pertemuan_3.py\n"
          ]
        }
      ]
    },
    {
      "cell_type": "code",
      "source": [
        "%%writefile pages/Tugas_Pertemuan_3.py\n",
        "import streamlit as st\n",
        "from datetime import datetime\n",
        "\n",
        "# Menampilkan judul halaman\n",
        "st.title(\"Formulir Pendaftaran Lomba Teknologi\")\n",
        "\n",
        "# Membuat form input\n",
        "with st.form(key='competition_registration_form'):\n",
        "    # Text input: Nama tim\n",
        "    team_name = st.text_input('Nama Tim')\n",
        "\n",
        "    # Numeric input: Jumlah anggota\n",
        "    member_count = st.number_input('Jumlah Anggota', min_value=1, max_value=10, step=1)\n",
        "\n",
        "    # Date input: Tanggal Pendaftaran\n",
        "    registration_date = st.date_input('Tanggal Pendaftaran', value=datetime.today())\n",
        "\n",
        "    # Time input: Jam presentasi yang diinginkan\n",
        "    presentation_time = st.time_input('Jam Presentasi yang Diinginkan', value=datetime.now().time())\n",
        "\n",
        "    # Selection: Kategori lomba\n",
        "    competition_category = st.selectbox('Pilih Kategori Lomba',\n",
        "                                  ['Aplikasi Mobile', 'Kecerdasan Buatan', 'IoT dan Robotika', 'Game Edukasi'])\n",
        "\n",
        "    # Tombol submit\n",
        "    submit_button = st.form_submit_button('Daftar')\n",
        "\n",
        "# Proses saat tombol submit ditekan\n",
        "if submit_button:\n",
        "    # Menampilkan data yang sudah diisi\n",
        "    st.success('✅ Pendaftaran Berhasil!')\n",
        "    st.markdown('### 📝 Detail Pendaftaran Tim')\n",
        "    st.write(f'- **Nama Tim**: {team_name}')\n",
        "    st.write(f'- **Jumlah Anggota**: {member_count} orang')\n",
        "    st.write(f'- **Tanggal Pendaftaran**: {registration_date.strftime(\"%d-%m-%Y\")}')\n",
        "    st.write(f'- **Jam Presentasi**: {presentation_time.strftime(\"%H:%M\")}')\n",
        "    st.write(f'- **Kategori Lomba**: {competition_category}')\n"
      ],
      "metadata": {
        "colab": {
          "base_uri": "https://localhost:8080/"
        },
        "id": "zwM4iHPDZA0-",
        "outputId": "94b2eb6d-a535-403a-edf6-82181e200d9d"
      },
      "execution_count": 54,
      "outputs": [
        {
          "output_type": "stream",
          "name": "stdout",
          "text": [
            "Writing pages/Tugas_Pertemuan_3.py\n"
          ]
        }
      ]
    },
    {
      "cell_type": "code",
      "source": [
        "!npm install localtunnel"
      ],
      "metadata": {
        "colab": {
          "base_uri": "https://localhost:8080/"
        },
        "id": "2VBHOwsNZXkz",
        "outputId": "758b9f81-b515-4db7-bad1-a26bb919449e"
      },
      "execution_count": 48,
      "outputs": [
        {
          "output_type": "stream",
          "name": "stdout",
          "text": [
            "\u001b[1G\u001b[0K⠙\u001b[1G\u001b[0K⠹\u001b[1G\u001b[0K⠸\u001b[1G\u001b[0K⠼\u001b[1G\u001b[0K\n",
            "up to date, audited 23 packages in 732ms\n",
            "\u001b[1G\u001b[0K⠼\u001b[1G\u001b[0K\n",
            "\u001b[1G\u001b[0K⠼\u001b[1G\u001b[0K3 packages are looking for funding\n",
            "\u001b[1G\u001b[0K⠼\u001b[1G\u001b[0K  run `npm fund` for details\n",
            "\u001b[1G\u001b[0K⠼\u001b[1G\u001b[0K\n",
            "2 \u001b[31m\u001b[1mhigh\u001b[22m\u001b[39m severity vulnerabilities\n",
            "\n",
            "To address all issues (including breaking changes), run:\n",
            "  npm audit fix --force\n",
            "\n",
            "Run `npm audit` for details.\n",
            "\u001b[1G\u001b[0K⠼\u001b[1G\u001b[0K"
          ]
        }
      ]
    },
    {
      "cell_type": "code",
      "source": [
        "!pwd"
      ],
      "metadata": {
        "colab": {
          "base_uri": "https://localhost:8080/"
        },
        "id": "lfJmbY4WZZfK",
        "outputId": "5b008e5d-6858-465b-9b2d-f0bc39e79bd1"
      },
      "execution_count": 55,
      "outputs": [
        {
          "output_type": "stream",
          "name": "stdout",
          "text": [
            "/content/Pengembangan_Machine_Learning3\n"
          ]
        }
      ]
    },
    {
      "cell_type": "code",
      "source": [
        "!streamlit run /content/Pengembangan_Machine_Learning3/Home.py &>/content/Pengembangan_Machine_Learning3/logs.txt &"
      ],
      "metadata": {
        "id": "3zjNin-zZdTk"
      },
      "execution_count": 56,
      "outputs": []
    },
    {
      "cell_type": "code",
      "source": [
        "!timeout 30 cat /content/Pengembangan_Machine_Learning3/logs.txt"
      ],
      "metadata": {
        "colab": {
          "base_uri": "https://localhost:8080/"
        },
        "id": "4VRqFJ2wZl_E",
        "outputId": "97133f76-2384-4847-a2d1-396a735ab612"
      },
      "execution_count": 57,
      "outputs": [
        {
          "output_type": "stream",
          "name": "stdout",
          "text": [
            "\n",
            "Collecting usage statistics. To deactivate, set browser.gatherUsageStats to false.\n",
            "\n",
            "\n",
            "  You can now view your Streamlit app in your browser.\n",
            "\n",
            "  Local URL: http://localhost:8501\n",
            "  Network URL: http://172.28.0.12:8501\n",
            "  External URL: http://35.197.120.210:8501\n",
            "\n"
          ]
        }
      ]
    },
    {
      "cell_type": "code",
      "source": [
        "import requests\n",
        "requests.get('https://api.ipify.org').text"
      ],
      "metadata": {
        "colab": {
          "base_uri": "https://localhost:8080/",
          "height": 35
        },
        "id": "gdnfOlhpZn5_",
        "outputId": "fb609ddc-11e3-4924-c297-a197eff43413"
      },
      "execution_count": 58,
      "outputs": [
        {
          "output_type": "execute_result",
          "data": {
            "text/plain": [
              "'35.197.120.210'"
            ],
            "application/vnd.google.colaboratory.intrinsic+json": {
              "type": "string"
            }
          },
          "metadata": {},
          "execution_count": 58
        }
      ]
    },
    {
      "cell_type": "code",
      "source": [
        "!npx localtunnel --port 8501"
      ],
      "metadata": {
        "colab": {
          "base_uri": "https://localhost:8080/"
        },
        "id": "ctII_ELtZpyw",
        "outputId": "141d2093-e78f-436d-97bb-d6b14383d53d"
      },
      "execution_count": 59,
      "outputs": [
        {
          "output_type": "stream",
          "name": "stdout",
          "text": [
            "\u001b[1G\u001b[0K⠙\u001b[1G\u001b[0Kyour url is: https://shy-boats-beg.loca.lt\n",
            "^C\n"
          ]
        }
      ]
    }
  ]
}